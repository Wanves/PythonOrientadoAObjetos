{
 "cells": [
  {
   "cell_type": "code",
   "execution_count": 320,
   "metadata": {},
   "outputs": [
    {
     "name": "stdout",
     "output_type": "stream",
     "text": [
      " \n",
      "Edad: 15\n",
      "Edad: 18\n",
      "Edad: 22\n",
      "Edad: 45\n",
      "Edad: 55\n",
      "Edad: 59\n",
      "Edad: 71\n"
     ]
    }
   ],
   "source": [
    "edades = [15, 18, 59, 71]\n",
    "edades.append(45)\n",
    "edades.append(55)\n",
    "edades.append(18)\n",
    "edades.remove(18)\n",
    "edades.insert(1, 22)\n",
    "len(edades)\n",
    "edades.sort()\n",
    "# edades.clear()\n",
    "# edades.pop()\n",
    "\n",
    "\n",
    "print(\" \")\n",
    "for edad in edades:\n",
    "    print(f'Edad: {edad}')"
   ]
  },
  {
   "cell_type": "code",
   "execution_count": 321,
   "metadata": {},
   "outputs": [],
   "source": [
    "edades.append([70,90])"
   ]
  },
  {
   "cell_type": "code",
   "execution_count": 322,
   "metadata": {},
   "outputs": [
    {
     "data": {
      "text/plain": [
       "[15, 18, 22, 45, 55, 59, 71, [70, 90]]"
      ]
     },
     "execution_count": 322,
     "metadata": {},
     "output_type": "execute_result"
    }
   ],
   "source": [
    "edades"
   ]
  },
  {
   "cell_type": "code",
   "execution_count": 323,
   "metadata": {},
   "outputs": [
    {
     "data": {
      "text/plain": [
       "[15, 18, 22, 45, 55, 59, 71, [70, 90], 70, 90]"
      ]
     },
     "execution_count": 323,
     "metadata": {},
     "output_type": "execute_result"
    }
   ],
   "source": [
    "edades.extend([70,90])\n",
    "edades"
   ]
  },
  {
   "cell_type": "code",
   "execution_count": 324,
   "metadata": {},
   "outputs": [
    {
     "data": {
      "text/plain": [
       "[15, 18, 22, 45, 55, 59, 71, 70, 90]"
      ]
     },
     "execution_count": 324,
     "metadata": {},
     "output_type": "execute_result"
    }
   ],
   "source": [
    "edades.remove([70, 90])\n",
    "edades"
   ]
  },
  {
   "cell_type": "code",
   "execution_count": 325,
   "metadata": {},
   "outputs": [
    {
     "data": {
      "text/plain": [
       "True"
      ]
     },
     "execution_count": 325,
     "metadata": {},
     "output_type": "execute_result"
    }
   ],
   "source": [
    "45 in edades"
   ]
  },
  {
   "cell_type": "code",
   "execution_count": 326,
   "metadata": {},
   "outputs": [
    {
     "name": "stdout",
     "output_type": "stream",
     "text": [
      "Edad: 16\n",
      "Edad: 19\n",
      "Edad: 23\n",
      "Edad: 46\n",
      "Edad: 56\n",
      "Edad: 60\n",
      "Edad: 72\n",
      "Edad: 71\n",
      "Edad: 91\n"
     ]
    }
   ],
   "source": [
    "for edad in edades:\n",
    "    print(f'Edad: {edad + 1}')"
   ]
  },
  {
   "cell_type": "code",
   "execution_count": 327,
   "metadata": {},
   "outputs": [
    {
     "data": {
      "text/plain": [
       "[16, 19, 23, 46, 56, 60, 72, 71, 91]"
      ]
     },
     "execution_count": 327,
     "metadata": {},
     "output_type": "execute_result"
    }
   ],
   "source": [
    "edades_proximo_año = []\n",
    "for edad in edades:\n",
    "    edades_proximo_año.append(edad+1)\n",
    "edades_proximo_año"
   ]
  },
  {
   "cell_type": "code",
   "execution_count": 328,
   "metadata": {},
   "outputs": [
    {
     "data": {
      "text/plain": [
       "[17, 20, 24, 47, 57, 61, 73, 72, 92]"
      ]
     },
     "execution_count": 328,
     "metadata": {},
     "output_type": "execute_result"
    }
   ],
   "source": [
    "edades_proximo_año = []\n",
    "edades_proximo_año = [edad + 2 for edad in edades]\n",
    "edades_proximo_año"
   ]
  },
  {
   "cell_type": "code",
   "execution_count": 329,
   "metadata": {},
   "outputs": [
    {
     "data": {
      "text/plain": [
       "[23, 46, 56, 60, 72, 71, 91]"
      ]
     },
     "execution_count": 329,
     "metadata": {},
     "output_type": "execute_result"
    }
   ],
   "source": [
    "mayores_de_edad_pa = [edad + 1 for edad in edades if edad > 21]\n",
    "mayores_de_edad_pa\n",
    "\n",
    "#  Otros métodos y list comprehension"
   ]
  },
  {
   "cell_type": "markdown",
   "metadata": {},
   "source": [
    "Problemas con la mutabilidad de las listas"
   ]
  },
  {
   "cell_type": "code",
   "execution_count": 330,
   "metadata": {},
   "outputs": [],
   "source": [
    "def analisis_listas(lista=[]):\n",
    "    print(\" \")\n",
    "    print(id(lista))\n",
    "    print(\" \")\n",
    "    print(len(lista))\n",
    "    print(\" \")\n",
    "    lista.append(13)\n",
    "    return lista"
   ]
  },
  {
   "cell_type": "code",
   "execution_count": 331,
   "metadata": {},
   "outputs": [],
   "source": [
    "edades = [17, 20, 24, 47, 57, 61, 73, 72, 92]"
   ]
  },
  {
   "cell_type": "code",
   "execution_count": 332,
   "metadata": {},
   "outputs": [
    {
     "name": "stdout",
     "output_type": "stream",
     "text": [
      " \n",
      "2523331797440\n",
      " \n",
      "9\n",
      " \n"
     ]
    },
    {
     "data": {
      "text/plain": [
       "[17, 20, 24, 47, 57, 61, 73, 72, 92, 13]"
      ]
     },
     "execution_count": 332,
     "metadata": {},
     "output_type": "execute_result"
    }
   ],
   "source": [
    "analisis_listas(edades)"
   ]
  },
  {
   "cell_type": "code",
   "execution_count": 333,
   "metadata": {},
   "outputs": [
    {
     "name": "stdout",
     "output_type": "stream",
     "text": [
      " \n",
      "2523571430656\n",
      " \n",
      "0\n",
      " \n"
     ]
    },
    {
     "data": {
      "text/plain": [
       "[13]"
      ]
     },
     "execution_count": 333,
     "metadata": {},
     "output_type": "execute_result"
    }
   ],
   "source": [
    "analisis_listas()"
   ]
  },
  {
   "cell_type": "code",
   "execution_count": 334,
   "metadata": {},
   "outputs": [],
   "source": [
    "def analisis_listas(lista=None):\n",
    "    print(\" \")\n",
    "    print(id(lista))\n",
    "    if lista == None:\n",
    "        lista = list()\n",
    "        print(id(lista))\n",
    "    print(\" \")\n",
    "    print(len(lista))\n",
    "    print(\" \")\n",
    "    lista.append(13)\n",
    "    return lista"
   ]
  },
  {
   "cell_type": "code",
   "execution_count": 335,
   "metadata": {},
   "outputs": [
    {
     "name": "stdout",
     "output_type": "stream",
     "text": [
      " \n",
      "140707309972680\n",
      "2523569858944\n",
      " \n",
      "0\n",
      " \n"
     ]
    },
    {
     "data": {
      "text/plain": [
       "[13]"
      ]
     },
     "execution_count": 335,
     "metadata": {},
     "output_type": "execute_result"
    }
   ],
   "source": [
    "analisis_listas()"
   ]
  },
  {
   "cell_type": "markdown",
   "metadata": {},
   "source": [
    "Lo que aprendimos en esta aula:\n",
    "\n",
    "¿Qué es una colección?\n",
    "Crear una lista.\n",
    "Comprobar el tipo de lista y el tamaño de la lista.\n",
    "Mostrar en pantalla el valor según su posición en la lista.\n",
    "Modificar valores que están dentro de la lista.\n",
    "Agregar valores al final de la lista.\n",
    "Recorrer la lista.\n",
    "Eliminar un elemento de la lista.\n",
    "Eliminar todos los elementos de la lista.\n",
    "Comprobar si un elemento está dentro de la lista.\n",
    "Insertar un elemento en la posición que deseamos.\n",
    "Utilizar una comprensión de lista.\n",
    "Realizar filtrados.\n",
    "Crear una función y establecer un valor predeterminado.\n",
    "¿Cuáles son los problemas de la mutabilidad?"
   ]
  },
  {
   "cell_type": "markdown",
   "metadata": {
    "notebookRunGroups": {
     "groupValue": "1"
    }
   },
   "source": [
    "Listas y objetos propios"
   ]
  },
  {
   "cell_type": "code",
   "execution_count": 336,
   "metadata": {},
   "outputs": [],
   "source": [
    "class CuentaCorriente:\n",
    "    def __init__(self, codigo):\n",
    "        self.codigo = codigo\n",
    "        self.saldo = 0\n",
    "        \n",
    "    def deposita(self, valor):\n",
    "        self.saldo += valor\n",
    "        \n",
    "    def __str__(self):\n",
    "        return f'>>>Código: {self.codigo} -- Saldo: {self.saldo}<<<'   "
   ]
  },
  {
   "cell_type": "code",
   "execution_count": 337,
   "metadata": {},
   "outputs": [],
   "source": [
    "cuenta_juan = CuentaCorriente(16)\n",
    "cuenta_juan.deposita(500.0)\n",
    "cuenta_zoe = CuentaCorriente(17)\n",
    "cuenta_zoe.deposita(1000)"
   ]
  },
  {
   "cell_type": "code",
   "execution_count": 338,
   "metadata": {},
   "outputs": [],
   "source": [
    "cuentas = [cuenta_juan, cuenta_zoe, cuenta_juan]"
   ]
  },
  {
   "cell_type": "code",
   "execution_count": 339,
   "metadata": {},
   "outputs": [
    {
     "name": "stdout",
     "output_type": "stream",
     "text": [
      ">>>Código: 16 -- Saldo: 500.0<<<\n",
      "El espacio de memoria es: 2523571172496\n",
      ">>>Código: 17 -- Saldo: 1000<<<\n",
      "El espacio de memoria es: 2523570991568\n",
      ">>>Código: 16 -- Saldo: 500.0<<<\n",
      "El espacio de memoria es: 2523571172496\n"
     ]
    }
   ],
   "source": [
    "for cuenta in cuentas: print(cuenta), print(f'El espacio de memoria es: {id(cuenta)}')"
   ]
  },
  {
   "cell_type": "code",
   "execution_count": 340,
   "metadata": {},
   "outputs": [],
   "source": [
    "def deposita_a_todos(cuenta): \n",
    "    for cuenta in cuentas: \n",
    "        cuenta.deposita(100)\n",
    "        \n",
    "cuentas = [cuenta_juan, cuenta_zoe, cuenta_juan]"
   ]
  },
  {
   "cell_type": "code",
   "execution_count": 341,
   "metadata": {},
   "outputs": [],
   "source": [
    "deposita_a_todos(cuentas)"
   ]
  },
  {
   "cell_type": "code",
   "execution_count": 342,
   "metadata": {},
   "outputs": [
    {
     "name": "stdout",
     "output_type": "stream",
     "text": [
      ">>>Código: 16 -- Saldo: 700.0<<<\n",
      "El espacio de memoria es: 2523571172496\n",
      ">>>Código: 17 -- Saldo: 1100<<<\n",
      "El espacio de memoria es: 2523570991568\n",
      ">>>Código: 16 -- Saldo: 700.0<<<\n",
      "El espacio de memoria es: 2523571172496\n"
     ]
    }
   ],
   "source": [
    "for cuenta in cuentas: \n",
    "    print(cuenta)\n",
    "    print(f'El espacio de memoria es: {id(cuenta)}')"
   ]
  },
  {
   "cell_type": "code",
   "execution_count": 343,
   "metadata": {},
   "outputs": [
    {
     "name": "stdout",
     "output_type": "stream",
     "text": [
      "76\n",
      "El espacio de memoria es: 140707311447176\n",
      ">>>Código: 16 -- Saldo: 700.0<<<\n",
      "El espacio de memoria es: 2523571172496\n",
      ">>>Código: 17 -- Saldo: 1100<<<\n",
      "El espacio de memoria es: 2523570991568\n",
      ">>>Código: 16 -- Saldo: 700.0<<<\n",
      "El espacio de memoria es: 2523571172496\n"
     ]
    }
   ],
   "source": [
    "cuentas.insert(0,76)\n",
    "for cuenta in cuentas: \n",
    "    print(cuenta)\n",
    "    print(f'El espacio de memoria es: {id(cuenta)}')"
   ]
  },
  {
   "cell_type": "markdown",
   "metadata": {},
   "source": [
    "Tuplas"
   ]
  },
  {
   "cell_type": "code",
   "execution_count": 344,
   "metadata": {},
   "outputs": [
    {
     "data": {
      "text/plain": [
       "('Juan', 50, 1972)"
      ]
     },
     "execution_count": 344,
     "metadata": {},
     "output_type": "execute_result"
    }
   ],
   "source": [
    "juan = ('Juan', 50, 1972)\n",
    "juan"
   ]
  },
  {
   "cell_type": "code",
   "execution_count": 345,
   "metadata": {},
   "outputs": [
    {
     "data": {
      "text/plain": [
       "('Zoe', 7, 2016)"
      ]
     },
     "execution_count": 345,
     "metadata": {},
     "output_type": "execute_result"
    }
   ],
   "source": [
    "zoe = ('Zoe', 7, 2016)\n",
    "zoe"
   ]
  },
  {
   "cell_type": "code",
   "execution_count": 346,
   "metadata": {},
   "outputs": [
    {
     "data": {
      "text/plain": [
       "('Goku', 20, 2003)"
      ]
     },
     "execution_count": 346,
     "metadata": {},
     "output_type": "execute_result"
    }
   ],
   "source": [
    "goku = ('Goku', 20, 2003)\n",
    "goku"
   ]
  },
  {
   "cell_type": "code",
   "execution_count": 347,
   "metadata": {},
   "outputs": [],
   "source": [
    "clientes = [juan, zoe, goku]"
   ]
  },
  {
   "cell_type": "code",
   "execution_count": 348,
   "metadata": {},
   "outputs": [
    {
     "data": {
      "text/plain": [
       "7"
      ]
     },
     "execution_count": 348,
     "metadata": {},
     "output_type": "execute_result"
    }
   ],
   "source": [
    "clientes[1][1]"
   ]
  },
  {
   "cell_type": "code",
   "execution_count": 349,
   "metadata": {},
   "outputs": [],
   "source": [
    "clientes.append(('Tim', 23, 2000))"
   ]
  },
  {
   "cell_type": "code",
   "execution_count": 350,
   "metadata": {},
   "outputs": [
    {
     "name": "stdout",
     "output_type": "stream",
     "text": [
      "('Juan', 50, 1972)\n",
      "('Zoe', 7, 2016)\n",
      "('Goku', 20, 2003)\n",
      "('Tim', 23, 2000)\n"
     ]
    }
   ],
   "source": [
    "for cliente in clientes:\n",
    "    print(cliente)"
   ]
  },
  {
   "cell_type": "code",
   "execution_count": 351,
   "metadata": {},
   "outputs": [
    {
     "data": {
      "text/plain": [
       "3"
      ]
     },
     "execution_count": 351,
     "metadata": {},
     "output_type": "execute_result"
    }
   ],
   "source": [
    "len(clientes[0])"
   ]
  },
  {
   "cell_type": "code",
   "execution_count": 352,
   "metadata": {},
   "outputs": [
    {
     "data": {
      "text/plain": [
       "range(0, 3)"
      ]
     },
     "execution_count": 352,
     "metadata": {},
     "output_type": "execute_result"
    }
   ],
   "source": [
    "range(len(clientes[0]))"
   ]
  },
  {
   "cell_type": "code",
   "execution_count": 353,
   "metadata": {},
   "outputs": [
    {
     "data": {
      "text/plain": [
       "range(0, 4)"
      ]
     },
     "execution_count": 353,
     "metadata": {},
     "output_type": "execute_result"
    }
   ],
   "source": [
    "range(len(clientes))"
   ]
  },
  {
   "cell_type": "code",
   "execution_count": 354,
   "metadata": {},
   "outputs": [
    {
     "name": "stdout",
     "output_type": "stream",
     "text": [
      "0 Juan\n",
      "1 Zoe\n",
      "2 Goku\n",
      "3 Tim\n"
     ]
    }
   ],
   "source": [
    "for i in range(len(clientes)):\n",
    "    print(i, clientes[i][0])"
   ]
  },
  {
   "cell_type": "code",
   "execution_count": 355,
   "metadata": {},
   "outputs": [
    {
     "data": {
      "text/plain": [
       "[(1000, ('Juan', 50, 1972)),\n",
       " (1001, ('Zoe', 7, 2016)),\n",
       " (1002, ('Goku', 20, 2003)),\n",
       " (1003, ('Tim', 23, 2000))]"
      ]
     },
     "execution_count": 355,
     "metadata": {},
     "output_type": "execute_result"
    }
   ],
   "source": [
    "list(enumerate(clientes, start=1000))"
   ]
  },
  {
   "cell_type": "markdown",
   "metadata": {},
   "source": [
    "Lo que aprendimos en esta aula:\n",
    "\n",
    "Crear una clase y métodos.\n",
    "Crear una lista de referencia para objetos.\n",
    "Manejar referencias.\n",
    "¿Qué es una tupla?\n",
    "Crear una tupla de listas.\n",
    "Diferencia entre programación orientada a objetos y funcional.\n",
    "Crear una lista de tuplas."
   ]
  },
  {
   "cell_type": "code",
   "execution_count": 356,
   "metadata": {},
   "outputs": [],
   "source": [
    "nuevos_clientes = list(enumerate(clientes, start=1000))"
   ]
  },
  {
   "cell_type": "code",
   "execution_count": 357,
   "metadata": {},
   "outputs": [
    {
     "name": "stdout",
     "output_type": "stream",
     "text": [
      "1000 Juan\n",
      "1001 Zoe\n",
      "1002 Goku\n",
      "1003 Tim\n"
     ]
    }
   ],
   "source": [
    "for codigo, informacion in nuevos_clientes:\n",
    "    print(codigo, informacion[0])"
   ]
  },
  {
   "cell_type": "code",
   "execution_count": 358,
   "metadata": {},
   "outputs": [
    {
     "name": "stdout",
     "output_type": "stream",
     "text": [
      "1000 50\n",
      "1001 7\n",
      "1002 20\n",
      "1003 23\n"
     ]
    }
   ],
   "source": [
    "for codigo, informacion in nuevos_clientes:\n",
    "    print(codigo, informacion[1])"
   ]
  },
  {
   "cell_type": "code",
   "execution_count": 359,
   "metadata": {},
   "outputs": [
    {
     "name": "stdout",
     "output_type": "stream",
     "text": [
      "1000 1972\n",
      "1001 2016\n",
      "1002 2003\n",
      "1003 2000\n"
     ]
    }
   ],
   "source": [
    "for codigo, informacion in nuevos_clientes:\n",
    "    print(codigo, informacion[2])"
   ]
  },
  {
   "cell_type": "code",
   "execution_count": 360,
   "metadata": {},
   "outputs": [],
   "source": [
    "class Cuenta:\n",
    "    def __init__(self, codigo):\n",
    "        self._codigo = codigo\n",
    "        self._saldo = 0\n",
    "        \n",
    "    def deposita(self, valor):\n",
    "        self._saldo += valor\n",
    "        \n",
    "    def pasa_mes(self):\n",
    "        self._saldo *=1.005\n",
    "        \n",
    "    def __str__(self):\n",
    "        return f'>>>Código: {self._codigo} -- Saldo: {self._saldo}<<<'   "
   ]
  },
  {
   "cell_type": "code",
   "execution_count": 361,
   "metadata": {},
   "outputs": [],
   "source": [
    "class CuentaCorriente(Cuenta):\n",
    "    def pasa_mes(self):\n",
    "        self._saldo -= 2\n",
    "        \n",
    "class CuentaCorriente(Cuenta):\n",
    "    def pasa_mes(self):\n",
    "        self._saldo *= 1.01\n",
    "        self._saldo -= 3   \n",
    "        \n",
    "class CuentaInversiones(Cuenta):\n",
    "   pass"
   ]
  },
  {
   "cell_type": "code",
   "execution_count": 362,
   "metadata": {},
   "outputs": [],
   "source": [
    "cuenta_juan = CuentaCorriente(16)\n",
    "cuenta_juan.deposita(500)\n",
    "cuenta_juan.pasa_mes()\n",
    "cuenta_zoe = CuentaCorriente(17)\n",
    "cuenta_zoe.deposita(1000)\n",
    "cuenta_zoe.pasa_mes()\n",
    "cuenta_inversiones = CuentaInversiones(18)\n",
    "cuenta_inversiones.deposita(500)\n",
    "cuenta_inversiones.pasa_mes()"
   ]
  },
  {
   "cell_type": "code",
   "execution_count": 363,
   "metadata": {},
   "outputs": [],
   "source": [
    "cuentas = [cuenta_juan, cuenta_zoe, cuenta_inversiones]"
   ]
  },
  {
   "cell_type": "code",
   "execution_count": 364,
   "metadata": {},
   "outputs": [
    {
     "name": "stdout",
     "output_type": "stream",
     "text": [
      ">>>Código: 16 -- Saldo: 502.0<<<\n",
      ">>>Código: 17 -- Saldo: 1007.0<<<\n",
      ">>>Código: 18 -- Saldo: 502.49999999999994<<<\n"
     ]
    }
   ],
   "source": [
    "for cuenta in cuentas:\n",
    "    print(cuenta)"
   ]
  },
  {
   "cell_type": "code",
   "execution_count": 365,
   "metadata": {},
   "outputs": [
    {
     "data": {
      "text/plain": [
       "[1.0, 2.5]"
      ]
     },
     "execution_count": 365,
     "metadata": {},
     "output_type": "execute_result"
    }
   ],
   "source": [
    "import array as arr\n",
    "\n",
    "numeros = arr.array('d',[1.0,2.5]).tolist()\n",
    "numeros"
   ]
  },
  {
   "cell_type": "code",
   "execution_count": 366,
   "metadata": {},
   "outputs": [
    {
     "data": {
      "text/plain": [
       "array([1. , 2.5])"
      ]
     },
     "execution_count": 366,
     "metadata": {},
     "output_type": "execute_result"
    }
   ],
   "source": [
    "import numpy as np\n",
    "numeros = np.array([1.0,2.5])\n",
    "numeros"
   ]
  },
  {
   "cell_type": "markdown",
   "metadata": {},
   "source": [
    "Lo que aprendimos en esta aula:\n",
    "\n",
    "Concepto de herencia y polimorfismo.\n",
    "Heredar una clase.\n",
    "¿Qué es el duck typing?\n",
    "Crear un array en Python nativo y con el módulo Numpy.\n",
    "Realizar anotaciones."
   ]
  },
  {
   "cell_type": "code",
   "execution_count": 367,
   "metadata": {},
   "outputs": [],
   "source": [
    "class CuentaSalario:\n",
    "    def __init__(self, codigo):\n",
    "        self._codigo = codigo\n",
    "        self._saldo = 0\n",
    "        \n",
    "    def deposita(self, valor):\n",
    "        self._saldo += valor\n",
    "        \n",
    "    def __eq__(self, otro):\n",
    "        return self._codigo == otro._codigo\n",
    "        \n",
    "        \n",
    "    def __str__(self):\n",
    "        return f'>>>Código: {self._codigo} -- Saldo: {self._saldo}<<<'   "
   ]
  },
  {
   "cell_type": "code",
   "execution_count": 368,
   "metadata": {},
   "outputs": [],
   "source": [
    "salario_juan = CuentaSalario(15)\n",
    "salario_zoe = CuentaSalario(15)"
   ]
  },
  {
   "cell_type": "code",
   "execution_count": 369,
   "metadata": {},
   "outputs": [
    {
     "name": "stdout",
     "output_type": "stream",
     "text": [
      "2523571368000\n",
      ">>>Código: 15 -- Saldo: 0<<<\n",
      "2523571368000\n",
      ">>>Código: 15 -- Saldo: 0<<<\n"
     ]
    }
   ],
   "source": [
    "salarios = [salario_juan, salario_zoe]\n",
    "for salario in salarios:\n",
    "    print(id(salarios))\n",
    "    print(salario)"
   ]
  },
  {
   "cell_type": "code",
   "execution_count": 370,
   "metadata": {},
   "outputs": [
    {
     "data": {
      "text/plain": [
       "True"
      ]
     },
     "execution_count": 370,
     "metadata": {},
     "output_type": "execute_result"
    }
   ],
   "source": [
    "salario_juan == salario_zoe"
   ]
  },
  {
   "cell_type": "code",
   "execution_count": 371,
   "metadata": {},
   "outputs": [],
   "source": [
    "corriente_juan = CuentaCorriente(15)"
   ]
  },
  {
   "cell_type": "code",
   "execution_count": 372,
   "metadata": {},
   "outputs": [
    {
     "data": {
      "text/plain": [
       "True"
      ]
     },
     "execution_count": 372,
     "metadata": {},
     "output_type": "execute_result"
    }
   ],
   "source": [
    "corriente_juan == salario_juan"
   ]
  },
  {
   "cell_type": "code",
   "execution_count": 373,
   "metadata": {},
   "outputs": [],
   "source": [
    "class CuentaSalario:\n",
    "    def __init__(self, codigo):\n",
    "        self._codigo = codigo\n",
    "        self._saldo = 0\n",
    "        \n",
    "    def deposita(self, valor):\n",
    "        self._saldo += valor\n",
    "        \n",
    "    def __eq__(self, otro):\n",
    "        if type(otro) != CuentaSalario:\n",
    "            return False\n",
    "        return self._codigo == otro._codigo\n",
    "        \n",
    "        \n",
    "    def __str__(self):\n",
    "        return f'>>>Código: {self._codigo} -- Saldo: {self._saldo}<<<'   "
   ]
  },
  {
   "cell_type": "code",
   "execution_count": 374,
   "metadata": {},
   "outputs": [],
   "source": [
    "salario_juan = CuentaSalario(15)\n",
    "salario_zoe = CuentaSalario(15)\n",
    "corriente_juan = CuentaCorriente(15)"
   ]
  },
  {
   "cell_type": "code",
   "execution_count": 375,
   "metadata": {},
   "outputs": [
    {
     "data": {
      "text/plain": [
       "False"
      ]
     },
     "execution_count": 375,
     "metadata": {},
     "output_type": "execute_result"
    }
   ],
   "source": [
    "corriente_juan == salario_juan"
   ]
  },
  {
   "cell_type": "code",
   "execution_count": 376,
   "metadata": {},
   "outputs": [
    {
     "data": {
      "text/plain": [
       "[17, 20, 24, 47, 57, 61, 73, 72, 92, 13]"
      ]
     },
     "execution_count": 376,
     "metadata": {},
     "output_type": "execute_result"
    }
   ],
   "source": [
    "edades"
   ]
  },
  {
   "cell_type": "code",
   "execution_count": 377,
   "metadata": {},
   "outputs": [],
   "source": [
    "edades_menor_a_mayor = sorted(edades)"
   ]
  },
  {
   "cell_type": "code",
   "execution_count": 378,
   "metadata": {},
   "outputs": [
    {
     "data": {
      "text/plain": [
       "[17, 20, 24, 47, 57, 61, 73, 72, 92, 13]"
      ]
     },
     "execution_count": 378,
     "metadata": {},
     "output_type": "execute_result"
    }
   ],
   "source": [
    "edades_mayor_a_menor = sorted(edades, reverse=True)\n",
    "edades"
   ]
  },
  {
   "cell_type": "code",
   "execution_count": 379,
   "metadata": {},
   "outputs": [
    {
     "data": {
      "text/plain": [
       "[13, 17, 20, 24, 47, 57, 61, 72, 73, 92]"
      ]
     },
     "execution_count": 379,
     "metadata": {},
     "output_type": "execute_result"
    }
   ],
   "source": [
    "edades.sort()\n",
    "edades"
   ]
  },
  {
   "cell_type": "code",
   "execution_count": 380,
   "metadata": {},
   "outputs": [
    {
     "data": {
      "text/plain": [
       "[92, 73, 72, 61, 57, 47, 24, 20, 17, 13]"
      ]
     },
     "execution_count": 380,
     "metadata": {},
     "output_type": "execute_result"
    }
   ],
   "source": [
    "edades.sort(reverse=True)\n",
    "edades"
   ]
  },
  {
   "cell_type": "code",
   "execution_count": 381,
   "metadata": {},
   "outputs": [
    {
     "name": "stdout",
     "output_type": "stream",
     "text": [
      "0 15\n",
      "1 87\n",
      "2 37\n",
      "3 45\n",
      "4 56\n",
      "5 32\n",
      "6 49\n",
      "7 37\n"
     ]
    }
   ],
   "source": [
    "edades = [15, 87, 37, 45, 56, 32, 49, 37]\n",
    "for i, edad in enumerate(edades):\n",
    "    print(i, edad)\n"
   ]
  },
  {
   "cell_type": "markdown",
   "metadata": {},
   "source": [
    "Lo que aprendimos en esta aula:\n",
    "\n",
    "Utilizar el método __eq__.\n",
    "Utilizar buenas prácticas para la comparación.\n",
    "¿Qué son las enumeraciones?\n",
    "¿Cómo funciona la función range?\n",
    "Desempaquetar tuplas.\n",
    "Utilizar la función len.\n",
    "Utilizar la función sorted para realizar la ordenación sin cambiar el contenido de la lista original.\n",
    "Utilizar la función sort para ordenar y modificar la lista original.\n",
    "Utilizar la función reversed para invertir los valores de una lista sin alterar la lista original."
   ]
  },
  {
   "cell_type": "code",
   "execution_count": 382,
   "metadata": {},
   "outputs": [
    {
     "data": {
      "text/plain": [
       "['Juan', 'Pam', 'Zoe']"
      ]
     },
     "execution_count": 382,
     "metadata": {},
     "output_type": "execute_result"
    }
   ],
   "source": [
    "nombres = ['Juan', 'Zoe', 'Pam']\n",
    "nombres.sort()\n",
    "nombres"
   ]
  },
  {
   "cell_type": "code",
   "execution_count": 383,
   "metadata": {},
   "outputs": [
    {
     "name": "stdout",
     "output_type": "stream",
     "text": [
      "74\n",
      "80\n",
      "90\n"
     ]
    }
   ],
   "source": [
    "for nombre in nombres:\n",
    "    print(ord(nombre[0]))"
   ]
  },
  {
   "cell_type": "code",
   "execution_count": 384,
   "metadata": {},
   "outputs": [],
   "source": [
    "class CuentaSalario:\n",
    "    def __init__(self, codigo):\n",
    "        self._codigo = codigo\n",
    "        self._saldo = 0\n",
    "        \n",
    "    def deposita(self, valor):\n",
    "        self._saldo += valor\n",
    "        \n",
    "    def __eq__(self, otro):\n",
    "        if type(otro) != CuentaSalario:\n",
    "            return False\n",
    "        return self._codigo == otro._codigo and self._saldo == otro._saldo\n",
    "    \n",
    "    def __lt__(self, otro):\n",
    "        return   self._saldo == otro._saldo\n",
    "        \n",
    "    def __str__(self):\n",
    "        return f'>>>Código: {self._codigo} -- Saldo: {self._saldo}<<<'   "
   ]
  },
  {
   "cell_type": "code",
   "execution_count": 385,
   "metadata": {},
   "outputs": [],
   "source": [
    "cuenta_juan = CuentaSalario(51)\n",
    "cuenta_juan.deposita(500)\n",
    "cuenta_zoe = CuentaSalario(52)\n",
    "cuenta_zoe.deposita(1000)\n",
    "cuenta_pam = CuentaSalario(53)\n",
    "cuenta_pam.deposita(500)\n",
    "\n",
    "# cuentas = [cuenta_juan, cuenta_zoe, cuenta_pam]\n",
    "# sorted(cuentas)"
   ]
  },
  {
   "cell_type": "code",
   "execution_count": 386,
   "metadata": {},
   "outputs": [
    {
     "name": "stdout",
     "output_type": "stream",
     "text": [
      ">>>Código: 16 -- Saldo: 502.0<<<\n",
      ">>>Código: 18 -- Saldo: 502.49999999999994<<<\n",
      ">>>Código: 17 -- Saldo: 1007.0<<<\n"
     ]
    }
   ],
   "source": [
    "from operator import attrgetter\n",
    "\n",
    "for cuenta in sorted(cuentas, key=attrgetter('_saldo')):\n",
    "    print(cuenta)"
   ]
  },
  {
   "cell_type": "code",
   "execution_count": 387,
   "metadata": {},
   "outputs": [],
   "source": [
    "cuenta_juan = CuentaSalario(51)\n",
    "cuenta_juan.deposita(500)\n",
    "cuenta_zoe = CuentaSalario(52)\n",
    "cuenta_zoe.deposita(1000)\n",
    "cuenta_pam = CuentaSalario(50)\n",
    "cuenta_pam.deposita(500)\n",
    "\n",
    "cuentas = [cuenta_juan, cuenta_zoe, cuenta_pam]"
   ]
  },
  {
   "cell_type": "code",
   "execution_count": 388,
   "metadata": {},
   "outputs": [
    {
     "name": "stdout",
     "output_type": "stream",
     "text": [
      ">>>Código: 51 -- Saldo: 500<<<\n",
      ">>>Código: 50 -- Saldo: 500<<<\n",
      ">>>Código: 52 -- Saldo: 1000<<<\n"
     ]
    }
   ],
   "source": [
    "for cuenta in sorted(cuentas, key=attrgetter('_saldo')):\n",
    "    print(cuenta)"
   ]
  },
  {
   "cell_type": "code",
   "execution_count": 389,
   "metadata": {},
   "outputs": [],
   "source": [
    "class CuentaSalario:\n",
    "    def __init__(self, codigo):\n",
    "        self._codigo = codigo\n",
    "        self._saldo = 0\n",
    "        \n",
    "    def deposita(self, valor):\n",
    "        self._saldo += valor\n",
    "        \n",
    "    def __eq__(self, otro):\n",
    "        if type(otro) != CuentaSalario:\n",
    "            return False\n",
    "        return self._codigo == otro._codigo and self._saldo == otro._saldo\n",
    "    \n",
    "    def __lt__(self, otro):\n",
    "        return   self._saldo < otro._saldo\n",
    "        \n",
    "    def __str__(self):\n",
    "        return f'>>>Código: {self._codigo} -- Saldo: {self._saldo}<<<'   "
   ]
  },
  {
   "cell_type": "code",
   "execution_count": 390,
   "metadata": {},
   "outputs": [],
   "source": [
    "cuenta_juan = CuentaSalario(51)\n",
    "cuenta_juan.deposita(500)\n",
    "cuenta_zoe = CuentaSalario(52)\n",
    "cuenta_zoe.deposita(1000)\n",
    "cuenta_pam = CuentaSalario(50)\n",
    "cuenta_pam.deposita(500)\n",
    "\n",
    "cuentas = [cuenta_juan, cuenta_zoe, cuenta_pam]"
   ]
  },
  {
   "cell_type": "code",
   "execution_count": 391,
   "metadata": {},
   "outputs": [
    {
     "data": {
      "text/plain": [
       "[<__main__.CuentaSalario at 0x24b81b7cc90>,\n",
       " <__main__.CuentaSalario at 0x24b909371d0>,\n",
       " <__main__.CuentaSalario at 0x24b908d6bd0>]"
      ]
     },
     "execution_count": 391,
     "metadata": {},
     "output_type": "execute_result"
    }
   ],
   "source": [
    "sorted(cuentas)"
   ]
  },
  {
   "cell_type": "code",
   "execution_count": 392,
   "metadata": {},
   "outputs": [
    {
     "data": {
      "text/plain": [
       "True"
      ]
     },
     "execution_count": 392,
     "metadata": {},
     "output_type": "execute_result"
    }
   ],
   "source": [
    "cuenta_juan < cuenta_zoe"
   ]
  },
  {
   "cell_type": "code",
   "execution_count": 393,
   "metadata": {},
   "outputs": [
    {
     "name": "stdout",
     "output_type": "stream",
     "text": [
      ">>>Código: 51 -- Saldo: 500<<<\n",
      ">>>Código: 50 -- Saldo: 500<<<\n",
      ">>>Código: 52 -- Saldo: 1000<<<\n"
     ]
    }
   ],
   "source": [
    "for cuenta in sorted(cuentas):\n",
    "    print(cuenta)"
   ]
  },
  {
   "cell_type": "code",
   "execution_count": 402,
   "metadata": {},
   "outputs": [],
   "source": [
    "from functools import total_ordering\n",
    "\n",
    "@total_ordering\n",
    "class CuentaSalario:\n",
    "    def __init__(self, codigo):\n",
    "        self._codigo = codigo\n",
    "        self._saldo = 0\n",
    "        \n",
    "    def deposita(self, valor):\n",
    "        self._saldo += valor\n",
    "        \n",
    "    def __eq__(self, otro):\n",
    "        if type(otro) != CuentaSalario:\n",
    "            return False\n",
    "        return self._codigo == otro._codigo and self._saldo == otro._saldo\n",
    "    \n",
    "    # def __lt__(self, otro):\n",
    "    #     return   self._saldo < otro._saldo\n",
    "    \n",
    "    def __le__(self, otro):\n",
    "        return   self._saldo <= otro._saldo\n",
    "        \n",
    "    def __str__(self):\n",
    "        return f'>>>Código: {self._codigo} -- Saldo: {self._saldo}<<<'   "
   ]
  },
  {
   "cell_type": "code",
   "execution_count": 395,
   "metadata": {},
   "outputs": [],
   "source": [
    "cuenta_juan = CuentaSalario(51)\n",
    "cuenta_juan.deposita(500)\n",
    "cuenta_zoe = CuentaSalario(52)\n",
    "cuenta_zoe.deposita(1000)\n",
    "cuenta_pam = CuentaSalario(50)\n",
    "cuenta_pam.deposita(500)\n",
    "\n",
    "cuentas = [cuenta_juan, cuenta_zoe, cuenta_pam]"
   ]
  },
  {
   "cell_type": "code",
   "execution_count": 396,
   "metadata": {},
   "outputs": [
    {
     "data": {
      "text/plain": [
       "[<__main__.CuentaSalario at 0x24b908edb10>,\n",
       " <__main__.CuentaSalario at 0x24b908786d0>,\n",
       " <__main__.CuentaSalario at 0x24b81b1b590>]"
      ]
     },
     "execution_count": 396,
     "metadata": {},
     "output_type": "execute_result"
    }
   ],
   "source": [
    "sorted(cuentas)"
   ]
  },
  {
   "cell_type": "code",
   "execution_count": 397,
   "metadata": {},
   "outputs": [
    {
     "data": {
      "text/plain": [
       "True"
      ]
     },
     "execution_count": 397,
     "metadata": {},
     "output_type": "execute_result"
    }
   ],
   "source": [
    "cuenta_juan <= cuenta_zoe"
   ]
  },
  {
   "cell_type": "code",
   "execution_count": 398,
   "metadata": {},
   "outputs": [
    {
     "name": "stdout",
     "output_type": "stream",
     "text": [
      ">>>Código: 50 -- Saldo: 500<<<\n",
      ">>>Código: 51 -- Saldo: 500<<<\n",
      ">>>Código: 52 -- Saldo: 1000<<<\n"
     ]
    }
   ],
   "source": [
    "for cuenta in sorted(cuentas):\n",
    "    print(cuenta)"
   ]
  },
  {
   "cell_type": "code",
   "execution_count": 399,
   "metadata": {},
   "outputs": [
    {
     "data": {
      "text/plain": [
       "False"
      ]
     },
     "execution_count": 399,
     "metadata": {},
     "output_type": "execute_result"
    }
   ],
   "source": [
    "cuenta_juan >= cuenta_zoe"
   ]
  },
  {
   "cell_type": "markdown",
   "metadata": {},
   "source": [
    "Lo que aprendimos en esta aula:\n",
    "\n",
    "Ordenar y comparar objetos.\n",
    "Usar __lt__: menor que (less than) para comparaciones.\n",
    "¿Qué es total_ordering y functools?"
   ]
  }
 ],
 "metadata": {
  "kernelspec": {
   "display_name": "Python 3",
   "language": "python",
   "name": "python3"
  },
  "language_info": {
   "codemirror_mode": {
    "name": "ipython",
    "version": 3
   },
   "file_extension": ".py",
   "mimetype": "text/x-python",
   "name": "python",
   "nbconvert_exporter": "python",
   "pygments_lexer": "ipython3",
   "version": "3.11.5"
  }
 },
 "nbformat": 4,
 "nbformat_minor": 2
}
